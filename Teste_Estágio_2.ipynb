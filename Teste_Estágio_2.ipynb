{
  "nbformat": 4,
  "nbformat_minor": 0,
  "metadata": {
    "colab": {
      "name": "Teste Estágio 2",
      "provenance": []
    },
    "kernelspec": {
      "name": "python3",
      "display_name": "Python 3"
    },
    "language_info": {
      "name": "python"
    }
  },
  "cells": [
    {
      "cell_type": "code",
      "source": [
        "import pandas as pd\n",
        "import statistics as st"
      ],
      "metadata": {
        "id": "QcLib7bdAviT"
      },
      "execution_count": null,
      "outputs": []
    },
    {
      "cell_type": "markdown",
      "source": [
        "Observe o trecho de código abaixo:\n",
        "\n",
        "int INDICE = 13, SOMA = 0, K = 0;\n",
        "\n",
        "enquanto K < INDICE faça\n",
        "\n",
        "{\n",
        "\n",
        "K = K + 1;\n",
        "\n",
        "SOMA = SOMA + K;\n",
        "\n",
        "}\n",
        "\n",
        "imprimir(SOMA);\n",
        "\n",
        "\n",
        "\n",
        "Ao final do processamento, qual será o valor da variável SOMA?"
      ],
      "metadata": {
        "id": "MdaXrDMrGOD-"
      }
    },
    {
      "cell_type": "code",
      "source": [
        "indice = 13\n",
        "soma = 0\n",
        "k = 0\n",
        "\n",
        "while(k < indice):\n",
        "  k = k + 1\n",
        "  soma = soma + k\n",
        "\n",
        "print(\"O valor será -> \" , soma)"
      ],
      "metadata": {
        "colab": {
          "base_uri": "https://localhost:8080/"
        },
        "id": "BZU_xGVPFurX",
        "outputId": "3bcdcd5f-8bab-46f5-9fe4-514f3fa859af"
      },
      "execution_count": 4,
      "outputs": [
        {
          "output_type": "stream",
          "name": "stdout",
          "text": [
            "O valor será ->  91\n"
          ]
        }
      ]
    },
    {
      "cell_type": "markdown",
      "source": [
        "2 - Dado a sequência de Fibonacci, onde se inicia por 0 e 1 e o próximo valor sempre será a soma dos 2 valores anteriores (exemplo: 0, 1, 1, 2, 3, 5, 8, 13, 21, 34...), escreva um programa na linguagem que desejar onde, informado um número, ele calcule a sequência de Fibonacci e retorne uma mensagem avisando se o número informado pertence ou não a sequência.\n",
        "\n",
        "IMPORTANTE:\n",
        "Esse número pode ser informado através de qualquer entrada de sua preferência ou pode ser previamente definido no código;"
      ],
      "metadata": {
        "id": "OwANORwZ_3ac"
      }
    },
    {
      "cell_type": "code",
      "execution_count": null,
      "metadata": {
        "colab": {
          "base_uri": "https://localhost:8080/"
        },
        "id": "7FCCxB1-7_TR",
        "outputId": "d2a49216-0b4e-421e-da1e-8cfdd6022ad6"
      },
      "outputs": [
        {
          "output_type": "stream",
          "name": "stdout",
          "text": [
            "5\n",
            "O número inserido pertence a sequência de Fibonacci\n"
          ]
        }
      ],
      "source": [
        "num = int(input())\n",
        "def fibonacci(n):\n",
        "    n1 = 0\n",
        "    n2 = 1\n",
        "    n3 = 0\n",
        "    while (n > n3):\n",
        "        n3 = n1 + n2\n",
        "        n1 = n2\n",
        "        n2 = n3\n",
        "    \n",
        "    if(n != 0 and n != n3):\n",
        "      print(\"O número inserido não pertence a sequência de Fibonacci\")\n",
        "\n",
        "    else:\n",
        "      print('O número inserido pertence a sequência de Fibonacci')\n",
        "\n",
        "fibonacci(num)\n",
        "\n"
      ]
    },
    {
      "cell_type": "markdown",
      "source": [
        "3 - Descubra a lógica e complete o próximo elemento:\n",
        "\n",
        "\n",
        "\n",
        "a) 1, 3, 5, 7, ___\n",
        "\n",
        "b) 2, 4, 8, 16, 32, 64, ____\n",
        "\n",
        "c) 0, 1, 4, 9, 16, 25, 36, ____\n",
        "\n",
        "d) 4, 16, 36, 64, ____\n",
        "\n",
        "e) 1, 1, 2, 3, 5, 8, ____\n",
        "\n",
        "f) 2,10, 12, 16, 17, 18, 19, ____"
      ],
      "metadata": {
        "id": "Ebt-HN_zHI1k"
      }
    },
    {
      "cell_type": "code",
      "source": [
        "Respostas:\n",
        "\n",
        "a) 1, 3, 5, 7, 9\n",
        "b) 2, 4, 8, 16, 32, 64, 128\n",
        "c) 0, 1, 4, 9, 16, 25, 36, 49\n",
        "d)  4, 16, 36, 64, 100\n",
        "e) 1, 1, 2, 3, 5, 8, 13\n",
        "f) 2,10, 12, 16, 17, 18, 19, 200"
      ],
      "metadata": {
        "id": "fd-loSj5HVd7"
      },
      "execution_count": null,
      "outputs": []
    },
    {
      "cell_type": "markdown",
      "source": [
        "5 - Escreva um programa que inverta os caracteres de um string.\n",
        "\n",
        "IMPORTANTE:\n",
        "a) Essa string pode ser informada através de qualquer entrada de sua preferência ou pode ser previamente definida no código;\n",
        "b) Evite usar funções prontas, como, por exemplo, reverse;\n"
      ],
      "metadata": {
        "id": "cLRZGF7RYGy7"
      }
    },
    {
      "cell_type": "code",
      "source": [
        "palavra = str(input())\n",
        "out = \"\"\n",
        "for i in range(len(palavra)-1,-1,-1):\n",
        "  out += palavra[i]\n",
        "print(out)"
      ],
      "metadata": {
        "colab": {
          "base_uri": "https://localhost:8080/"
        },
        "id": "uMbcf7flQA4D",
        "outputId": "dc946592-6fb2-4b75-c60a-0d290d58b9b8"
      },
      "execution_count": null,
      "outputs": [
        {
          "output_type": "stream",
          "name": "stdout",
          "text": [
            "sandoval\n",
            "lavodnas\n"
          ]
        }
      ]
    },
    {
      "cell_type": "markdown",
      "source": [
        ""
      ],
      "metadata": {
        "id": "KQz0U_IDNah0"
      }
    },
    {
      "cell_type": "markdown",
      "source": [
        ""
      ],
      "metadata": {
        "id": "hpfZEhsgNakq"
      }
    }
  ]
}